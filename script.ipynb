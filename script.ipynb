{
 "cells": [
  {
   "cell_type": "code",
   "execution_count": 3,
   "metadata": {},
   "outputs": [],
   "source": [
    "import pandas as pd\n",
    "import numpy as np\n",
    "from sklearn.preprocessing import LabelEncoder\n",
    "from sklearn.compose import ColumnTransformer\n",
    "from sklearn.preprocessing import OneHotEncoder\n",
    "from sklearn.model_selection import train_test_split\n",
    "from sklearn.preprocessing import StandardScaler\n",
    "from sklearn.linear_model import LogisticRegression\n",
    "from sklearn.metrics import confusion_matrix, accuracy_score\n",
    "from sklearn.svm import SVC\n",
    "from sklearn.neighbors import KNeighborsClassifier\n",
    "import joblib"
   ]
  },
  {
   "cell_type": "code",
   "execution_count": 6,
   "metadata": {},
   "outputs": [
    {
     "data": {
      "text/html": [
       "<div>\n",
       "<style scoped>\n",
       "    .dataframe tbody tr th:only-of-type {\n",
       "        vertical-align: middle;\n",
       "    }\n",
       "\n",
       "    .dataframe tbody tr th {\n",
       "        vertical-align: top;\n",
       "    }\n",
       "\n",
       "    .dataframe thead th {\n",
       "        text-align: right;\n",
       "    }\n",
       "</style>\n",
       "<table border=\"1\" class=\"dataframe\">\n",
       "  <thead>\n",
       "    <tr style=\"text-align: right;\">\n",
       "      <th></th>\n",
       "      <th>Index</th>\n",
       "      <th>pH</th>\n",
       "      <th>Iron</th>\n",
       "      <th>Nitrate</th>\n",
       "      <th>Chloride</th>\n",
       "      <th>Lead</th>\n",
       "      <th>Zinc</th>\n",
       "      <th>Color</th>\n",
       "      <th>Turbidity</th>\n",
       "      <th>Fluoride</th>\n",
       "      <th>...</th>\n",
       "      <th>Chlorine</th>\n",
       "      <th>Manganese</th>\n",
       "      <th>Total Dissolved Solids</th>\n",
       "      <th>Source</th>\n",
       "      <th>Water Temperature</th>\n",
       "      <th>Air Temperature</th>\n",
       "      <th>Month</th>\n",
       "      <th>Day</th>\n",
       "      <th>Time of Day</th>\n",
       "      <th>Potability</th>\n",
       "    </tr>\n",
       "  </thead>\n",
       "  <tbody>\n",
       "    <tr>\n",
       "      <th>0</th>\n",
       "      <td>0</td>\n",
       "      <td>8.332988</td>\n",
       "      <td>0.000083</td>\n",
       "      <td>8.605777</td>\n",
       "      <td>122.799772</td>\n",
       "      <td>3.710000e-52</td>\n",
       "      <td>3.434827</td>\n",
       "      <td>Colorless</td>\n",
       "      <td>0.022683</td>\n",
       "      <td>0.607283</td>\n",
       "      <td>...</td>\n",
       "      <td>3.708178</td>\n",
       "      <td>2.270000e-15</td>\n",
       "      <td>332.118789</td>\n",
       "      <td>NaN</td>\n",
       "      <td>NaN</td>\n",
       "      <td>43.493324</td>\n",
       "      <td>January</td>\n",
       "      <td>29.0</td>\n",
       "      <td>4.0</td>\n",
       "      <td>0</td>\n",
       "    </tr>\n",
       "    <tr>\n",
       "      <th>1</th>\n",
       "      <td>1</td>\n",
       "      <td>6.917863</td>\n",
       "      <td>0.000081</td>\n",
       "      <td>3.734167</td>\n",
       "      <td>227.029851</td>\n",
       "      <td>7.850000e-94</td>\n",
       "      <td>1.245317</td>\n",
       "      <td>Faint Yellow</td>\n",
       "      <td>0.019007</td>\n",
       "      <td>0.622874</td>\n",
       "      <td>...</td>\n",
       "      <td>3.292038</td>\n",
       "      <td>8.020000e-07</td>\n",
       "      <td>284.641984</td>\n",
       "      <td>Lake</td>\n",
       "      <td>15.348981</td>\n",
       "      <td>71.220586</td>\n",
       "      <td>November</td>\n",
       "      <td>26.0</td>\n",
       "      <td>16.0</td>\n",
       "      <td>0</td>\n",
       "    </tr>\n",
       "    <tr>\n",
       "      <th>2</th>\n",
       "      <td>2</td>\n",
       "      <td>5.443762</td>\n",
       "      <td>0.020106</td>\n",
       "      <td>3.816994</td>\n",
       "      <td>230.995630</td>\n",
       "      <td>5.290000e-76</td>\n",
       "      <td>0.528280</td>\n",
       "      <td>Light Yellow</td>\n",
       "      <td>0.319956</td>\n",
       "      <td>0.423423</td>\n",
       "      <td>...</td>\n",
       "      <td>3.560224</td>\n",
       "      <td>7.007989e-02</td>\n",
       "      <td>570.054094</td>\n",
       "      <td>River</td>\n",
       "      <td>11.643467</td>\n",
       "      <td>44.891330</td>\n",
       "      <td>January</td>\n",
       "      <td>31.0</td>\n",
       "      <td>8.0</td>\n",
       "      <td>0</td>\n",
       "    </tr>\n",
       "    <tr>\n",
       "      <th>3</th>\n",
       "      <td>3</td>\n",
       "      <td>7.955339</td>\n",
       "      <td>0.143988</td>\n",
       "      <td>8.224944</td>\n",
       "      <td>178.129940</td>\n",
       "      <td>4.000000e-176</td>\n",
       "      <td>4.027879</td>\n",
       "      <td>Near Colorless</td>\n",
       "      <td>0.166319</td>\n",
       "      <td>0.208454</td>\n",
       "      <td>...</td>\n",
       "      <td>3.516907</td>\n",
       "      <td>2.468295e-02</td>\n",
       "      <td>100.043838</td>\n",
       "      <td>Ground</td>\n",
       "      <td>10.092392</td>\n",
       "      <td>60.843233</td>\n",
       "      <td>April</td>\n",
       "      <td>1.0</td>\n",
       "      <td>21.0</td>\n",
       "      <td>0</td>\n",
       "    </tr>\n",
       "    <tr>\n",
       "      <th>4</th>\n",
       "      <td>4</td>\n",
       "      <td>8.091909</td>\n",
       "      <td>0.002167</td>\n",
       "      <td>9.925788</td>\n",
       "      <td>186.540872</td>\n",
       "      <td>4.170000e-132</td>\n",
       "      <td>3.807511</td>\n",
       "      <td>Light Yellow</td>\n",
       "      <td>0.004867</td>\n",
       "      <td>0.222912</td>\n",
       "      <td>...</td>\n",
       "      <td>3.177849</td>\n",
       "      <td>3.296139e-03</td>\n",
       "      <td>168.075545</td>\n",
       "      <td>Spring</td>\n",
       "      <td>15.249416</td>\n",
       "      <td>69.336671</td>\n",
       "      <td>June</td>\n",
       "      <td>29.0</td>\n",
       "      <td>7.0</td>\n",
       "      <td>0</td>\n",
       "    </tr>\n",
       "  </tbody>\n",
       "</table>\n",
       "<p>5 rows × 24 columns</p>\n",
       "</div>"
      ],
      "text/plain": [
       "   Index        pH      Iron   Nitrate    Chloride           Lead      Zinc  \\\n",
       "0      0  8.332988  0.000083  8.605777  122.799772   3.710000e-52  3.434827   \n",
       "1      1  6.917863  0.000081  3.734167  227.029851   7.850000e-94  1.245317   \n",
       "2      2  5.443762  0.020106  3.816994  230.995630   5.290000e-76  0.528280   \n",
       "3      3  7.955339  0.143988  8.224944  178.129940  4.000000e-176  4.027879   \n",
       "4      4  8.091909  0.002167  9.925788  186.540872  4.170000e-132  3.807511   \n",
       "\n",
       "            Color  Turbidity  Fluoride  ...  Chlorine     Manganese  \\\n",
       "0       Colorless   0.022683  0.607283  ...  3.708178  2.270000e-15   \n",
       "1    Faint Yellow   0.019007  0.622874  ...  3.292038  8.020000e-07   \n",
       "2    Light Yellow   0.319956  0.423423  ...  3.560224  7.007989e-02   \n",
       "3  Near Colorless   0.166319  0.208454  ...  3.516907  2.468295e-02   \n",
       "4    Light Yellow   0.004867  0.222912  ...  3.177849  3.296139e-03   \n",
       "\n",
       "   Total Dissolved Solids  Source  Water Temperature  Air Temperature  \\\n",
       "0              332.118789     NaN                NaN        43.493324   \n",
       "1              284.641984    Lake          15.348981        71.220586   \n",
       "2              570.054094   River          11.643467        44.891330   \n",
       "3              100.043838  Ground          10.092392        60.843233   \n",
       "4              168.075545  Spring          15.249416        69.336671   \n",
       "\n",
       "      Month   Day  Time of Day  Potability  \n",
       "0   January  29.0          4.0           0  \n",
       "1  November  26.0         16.0           0  \n",
       "2   January  31.0          8.0           0  \n",
       "3     April   1.0         21.0           0  \n",
       "4      June  29.0          7.0           0  \n",
       "\n",
       "[5 rows x 24 columns]"
      ]
     },
     "execution_count": 6,
     "metadata": {},
     "output_type": "execute_result"
    }
   ],
   "source": [
    "df = pd.read_csv('Water Quality Prediction.csv')\n",
    "df.head()"
   ]
  },
  {
   "cell_type": "code",
   "execution_count": 7,
   "metadata": {},
   "outputs": [],
   "source": [
    "# get a sample of 1000 rows\n",
    "df = df.sample(n=100000, random_state=42)"
   ]
  },
  {
   "cell_type": "code",
   "execution_count": null,
   "metadata": {},
   "outputs": [],
   "source": [
    "df.isna().sum()"
   ]
  },
  {
   "cell_type": "code",
   "execution_count": null,
   "metadata": {},
   "outputs": [],
   "source": [
    "df.shape"
   ]
  },
  {
   "cell_type": "code",
   "execution_count": 8,
   "metadata": {},
   "outputs": [],
   "source": [
    "# remove all rows with Nan values\n",
    "\n",
    "df.dropna(inplace=True) # modifies the dataframe in place"
   ]
  },
  {
   "cell_type": "code",
   "execution_count": null,
   "metadata": {},
   "outputs": [],
   "source": [
    "# check for duplicate rows\n",
    "duplicate_rows = df[df.duplicated()]\n",
    "if duplicate_rows.count().sum() == 0:\n",
    "   print(\"No duplicate rowa\")\n",
    "else:\n",
    "   print(\"Duplicate rows are present\")"
   ]
  },
  {
   "cell_type": "code",
   "execution_count": 9,
   "metadata": {},
   "outputs": [
    {
     "data": {
      "text/html": [
       "<div>\n",
       "<style scoped>\n",
       "    .dataframe tbody tr th:only-of-type {\n",
       "        vertical-align: middle;\n",
       "    }\n",
       "\n",
       "    .dataframe tbody tr th {\n",
       "        vertical-align: top;\n",
       "    }\n",
       "\n",
       "    .dataframe thead th {\n",
       "        text-align: right;\n",
       "    }\n",
       "</style>\n",
       "<table border=\"1\" class=\"dataframe\">\n",
       "  <thead>\n",
       "    <tr style=\"text-align: right;\">\n",
       "      <th></th>\n",
       "      <th>pH</th>\n",
       "      <th>Iron</th>\n",
       "      <th>Nitrate</th>\n",
       "      <th>Chloride</th>\n",
       "      <th>Lead</th>\n",
       "      <th>Zinc</th>\n",
       "      <th>Color</th>\n",
       "      <th>Turbidity</th>\n",
       "      <th>Fluoride</th>\n",
       "      <th>Copper</th>\n",
       "      <th>Odor</th>\n",
       "      <th>Sulfate</th>\n",
       "      <th>Conductivity</th>\n",
       "      <th>Chlorine</th>\n",
       "      <th>Manganese</th>\n",
       "      <th>Total Dissolved Solids</th>\n",
       "      <th>Source</th>\n",
       "      <th>Water Temperature</th>\n",
       "      <th>Air Temperature</th>\n",
       "    </tr>\n",
       "  </thead>\n",
       "  <tbody>\n",
       "    <tr>\n",
       "      <th>781974</th>\n",
       "      <td>7.004799</td>\n",
       "      <td>6.130000e-06</td>\n",
       "      <td>7.114755</td>\n",
       "      <td>120.527769</td>\n",
       "      <td>4.620000e-168</td>\n",
       "      <td>1.564359</td>\n",
       "      <td>Near Colorless</td>\n",
       "      <td>0.613998</td>\n",
       "      <td>1.758451</td>\n",
       "      <td>0.255472</td>\n",
       "      <td>2.092090</td>\n",
       "      <td>120.745502</td>\n",
       "      <td>241.446886</td>\n",
       "      <td>3.099394</td>\n",
       "      <td>4.469775e-02</td>\n",
       "      <td>257.717511</td>\n",
       "      <td>Reservoir</td>\n",
       "      <td>22.900917</td>\n",
       "      <td>54.310518</td>\n",
       "    </tr>\n",
       "    <tr>\n",
       "      <th>937737</th>\n",
       "      <td>8.299823</td>\n",
       "      <td>1.845755e-03</td>\n",
       "      <td>4.713490</td>\n",
       "      <td>220.284903</td>\n",
       "      <td>9.040000e-120</td>\n",
       "      <td>2.196456</td>\n",
       "      <td>Faint Yellow</td>\n",
       "      <td>1.543039</td>\n",
       "      <td>4.341496</td>\n",
       "      <td>0.316341</td>\n",
       "      <td>3.077392</td>\n",
       "      <td>228.707208</td>\n",
       "      <td>282.409585</td>\n",
       "      <td>3.749201</td>\n",
       "      <td>8.410000e-05</td>\n",
       "      <td>92.378364</td>\n",
       "      <td>Ground</td>\n",
       "      <td>64.103574</td>\n",
       "      <td>72.016863</td>\n",
       "    </tr>\n",
       "    <tr>\n",
       "      <th>907828</th>\n",
       "      <td>8.077128</td>\n",
       "      <td>1.998475e-03</td>\n",
       "      <td>6.999236</td>\n",
       "      <td>157.332074</td>\n",
       "      <td>1.740000e-137</td>\n",
       "      <td>1.900052</td>\n",
       "      <td>Faint Yellow</td>\n",
       "      <td>0.363389</td>\n",
       "      <td>0.537449</td>\n",
       "      <td>0.032343</td>\n",
       "      <td>1.306127</td>\n",
       "      <td>136.219129</td>\n",
       "      <td>214.876158</td>\n",
       "      <td>2.215031</td>\n",
       "      <td>1.954040e-04</td>\n",
       "      <td>187.093504</td>\n",
       "      <td>Well</td>\n",
       "      <td>26.600483</td>\n",
       "      <td>74.400507</td>\n",
       "    </tr>\n",
       "    <tr>\n",
       "      <th>784628</th>\n",
       "      <td>7.813995</td>\n",
       "      <td>1.145000e-03</td>\n",
       "      <td>6.168141</td>\n",
       "      <td>200.820979</td>\n",
       "      <td>1.970000e-06</td>\n",
       "      <td>4.961851</td>\n",
       "      <td>Near Colorless</td>\n",
       "      <td>0.731114</td>\n",
       "      <td>0.073730</td>\n",
       "      <td>0.700787</td>\n",
       "      <td>0.440061</td>\n",
       "      <td>72.935525</td>\n",
       "      <td>342.590598</td>\n",
       "      <td>3.030572</td>\n",
       "      <td>4.894026e-02</td>\n",
       "      <td>334.951667</td>\n",
       "      <td>Ground</td>\n",
       "      <td>16.434954</td>\n",
       "      <td>98.879709</td>\n",
       "    </tr>\n",
       "    <tr>\n",
       "      <th>662460</th>\n",
       "      <td>6.691067</td>\n",
       "      <td>5.068609e-01</td>\n",
       "      <td>8.280426</td>\n",
       "      <td>143.161413</td>\n",
       "      <td>7.280000e-111</td>\n",
       "      <td>5.546948</td>\n",
       "      <td>Colorless</td>\n",
       "      <td>0.026614</td>\n",
       "      <td>1.532804</td>\n",
       "      <td>0.161636</td>\n",
       "      <td>2.780277</td>\n",
       "      <td>300.992636</td>\n",
       "      <td>291.962088</td>\n",
       "      <td>3.105734</td>\n",
       "      <td>3.490000e-18</td>\n",
       "      <td>211.253831</td>\n",
       "      <td>Lake</td>\n",
       "      <td>12.467716</td>\n",
       "      <td>46.854295</td>\n",
       "    </tr>\n",
       "    <tr>\n",
       "      <th>...</th>\n",
       "      <td>...</td>\n",
       "      <td>...</td>\n",
       "      <td>...</td>\n",
       "      <td>...</td>\n",
       "      <td>...</td>\n",
       "      <td>...</td>\n",
       "      <td>...</td>\n",
       "      <td>...</td>\n",
       "      <td>...</td>\n",
       "      <td>...</td>\n",
       "      <td>...</td>\n",
       "      <td>...</td>\n",
       "      <td>...</td>\n",
       "      <td>...</td>\n",
       "      <td>...</td>\n",
       "      <td>...</td>\n",
       "      <td>...</td>\n",
       "      <td>...</td>\n",
       "      <td>...</td>\n",
       "    </tr>\n",
       "    <tr>\n",
       "      <th>914455</th>\n",
       "      <td>8.120564</td>\n",
       "      <td>1.170000e-09</td>\n",
       "      <td>7.355084</td>\n",
       "      <td>96.230006</td>\n",
       "      <td>2.890000e-08</td>\n",
       "      <td>0.810747</td>\n",
       "      <td>Colorless</td>\n",
       "      <td>0.002375</td>\n",
       "      <td>0.373423</td>\n",
       "      <td>0.006626</td>\n",
       "      <td>1.416142</td>\n",
       "      <td>188.546064</td>\n",
       "      <td>405.156118</td>\n",
       "      <td>3.177922</td>\n",
       "      <td>1.552390e-04</td>\n",
       "      <td>481.708343</td>\n",
       "      <td>Ground</td>\n",
       "      <td>46.682743</td>\n",
       "      <td>68.763669</td>\n",
       "    </tr>\n",
       "    <tr>\n",
       "      <th>80809</th>\n",
       "      <td>8.318530</td>\n",
       "      <td>4.287108e-03</td>\n",
       "      <td>6.326976</td>\n",
       "      <td>72.114445</td>\n",
       "      <td>6.400000e-243</td>\n",
       "      <td>1.071254</td>\n",
       "      <td>Colorless</td>\n",
       "      <td>0.332185</td>\n",
       "      <td>1.934085</td>\n",
       "      <td>0.677406</td>\n",
       "      <td>3.186319</td>\n",
       "      <td>60.223525</td>\n",
       "      <td>407.393556</td>\n",
       "      <td>3.182622</td>\n",
       "      <td>7.210000e-10</td>\n",
       "      <td>330.291977</td>\n",
       "      <td>Aquifer</td>\n",
       "      <td>11.003228</td>\n",
       "      <td>75.988999</td>\n",
       "    </tr>\n",
       "    <tr>\n",
       "      <th>671949</th>\n",
       "      <td>5.339506</td>\n",
       "      <td>4.004972e+00</td>\n",
       "      <td>2.171121</td>\n",
       "      <td>190.990878</td>\n",
       "      <td>8.620000e-129</td>\n",
       "      <td>1.982674</td>\n",
       "      <td>Faint Yellow</td>\n",
       "      <td>0.031429</td>\n",
       "      <td>0.516413</td>\n",
       "      <td>0.012284</td>\n",
       "      <td>4.122576</td>\n",
       "      <td>90.129952</td>\n",
       "      <td>577.525383</td>\n",
       "      <td>3.218093</td>\n",
       "      <td>5.987480e-01</td>\n",
       "      <td>320.506649</td>\n",
       "      <td>Spring</td>\n",
       "      <td>27.909774</td>\n",
       "      <td>18.998035</td>\n",
       "    </tr>\n",
       "    <tr>\n",
       "      <th>499176</th>\n",
       "      <td>7.255511</td>\n",
       "      <td>1.295289e-01</td>\n",
       "      <td>3.661624</td>\n",
       "      <td>127.477024</td>\n",
       "      <td>1.000000e-06</td>\n",
       "      <td>1.755221</td>\n",
       "      <td>Near Colorless</td>\n",
       "      <td>0.000847</td>\n",
       "      <td>1.630685</td>\n",
       "      <td>0.052678</td>\n",
       "      <td>0.111688</td>\n",
       "      <td>159.647437</td>\n",
       "      <td>521.888509</td>\n",
       "      <td>2.118294</td>\n",
       "      <td>1.900254e-03</td>\n",
       "      <td>28.497639</td>\n",
       "      <td>Aquifer</td>\n",
       "      <td>8.461737</td>\n",
       "      <td>40.424152</td>\n",
       "    </tr>\n",
       "    <tr>\n",
       "      <th>435719</th>\n",
       "      <td>7.063004</td>\n",
       "      <td>4.632639e-02</td>\n",
       "      <td>8.890720</td>\n",
       "      <td>128.894871</td>\n",
       "      <td>1.120000e-58</td>\n",
       "      <td>0.729510</td>\n",
       "      <td>Near Colorless</td>\n",
       "      <td>0.008693</td>\n",
       "      <td>0.333307</td>\n",
       "      <td>0.077571</td>\n",
       "      <td>0.136978</td>\n",
       "      <td>130.434529</td>\n",
       "      <td>338.313079</td>\n",
       "      <td>2.535782</td>\n",
       "      <td>1.467641e-03</td>\n",
       "      <td>83.855487</td>\n",
       "      <td>River</td>\n",
       "      <td>10.476108</td>\n",
       "      <td>24.283290</td>\n",
       "    </tr>\n",
       "  </tbody>\n",
       "</table>\n",
       "<p>66858 rows × 19 columns</p>\n",
       "</div>"
      ],
      "text/plain": [
       "              pH          Iron   Nitrate    Chloride           Lead      Zinc  \\\n",
       "781974  7.004799  6.130000e-06  7.114755  120.527769  4.620000e-168  1.564359   \n",
       "937737  8.299823  1.845755e-03  4.713490  220.284903  9.040000e-120  2.196456   \n",
       "907828  8.077128  1.998475e-03  6.999236  157.332074  1.740000e-137  1.900052   \n",
       "784628  7.813995  1.145000e-03  6.168141  200.820979   1.970000e-06  4.961851   \n",
       "662460  6.691067  5.068609e-01  8.280426  143.161413  7.280000e-111  5.546948   \n",
       "...          ...           ...       ...         ...            ...       ...   \n",
       "914455  8.120564  1.170000e-09  7.355084   96.230006   2.890000e-08  0.810747   \n",
       "80809   8.318530  4.287108e-03  6.326976   72.114445  6.400000e-243  1.071254   \n",
       "671949  5.339506  4.004972e+00  2.171121  190.990878  8.620000e-129  1.982674   \n",
       "499176  7.255511  1.295289e-01  3.661624  127.477024   1.000000e-06  1.755221   \n",
       "435719  7.063004  4.632639e-02  8.890720  128.894871   1.120000e-58  0.729510   \n",
       "\n",
       "                 Color  Turbidity  Fluoride    Copper      Odor     Sulfate  \\\n",
       "781974  Near Colorless   0.613998  1.758451  0.255472  2.092090  120.745502   \n",
       "937737    Faint Yellow   1.543039  4.341496  0.316341  3.077392  228.707208   \n",
       "907828    Faint Yellow   0.363389  0.537449  0.032343  1.306127  136.219129   \n",
       "784628  Near Colorless   0.731114  0.073730  0.700787  0.440061   72.935525   \n",
       "662460       Colorless   0.026614  1.532804  0.161636  2.780277  300.992636   \n",
       "...                ...        ...       ...       ...       ...         ...   \n",
       "914455       Colorless   0.002375  0.373423  0.006626  1.416142  188.546064   \n",
       "80809        Colorless   0.332185  1.934085  0.677406  3.186319   60.223525   \n",
       "671949    Faint Yellow   0.031429  0.516413  0.012284  4.122576   90.129952   \n",
       "499176  Near Colorless   0.000847  1.630685  0.052678  0.111688  159.647437   \n",
       "435719  Near Colorless   0.008693  0.333307  0.077571  0.136978  130.434529   \n",
       "\n",
       "        Conductivity  Chlorine     Manganese  Total Dissolved Solids  \\\n",
       "781974    241.446886  3.099394  4.469775e-02              257.717511   \n",
       "937737    282.409585  3.749201  8.410000e-05               92.378364   \n",
       "907828    214.876158  2.215031  1.954040e-04              187.093504   \n",
       "784628    342.590598  3.030572  4.894026e-02              334.951667   \n",
       "662460    291.962088  3.105734  3.490000e-18              211.253831   \n",
       "...              ...       ...           ...                     ...   \n",
       "914455    405.156118  3.177922  1.552390e-04              481.708343   \n",
       "80809     407.393556  3.182622  7.210000e-10              330.291977   \n",
       "671949    577.525383  3.218093  5.987480e-01              320.506649   \n",
       "499176    521.888509  2.118294  1.900254e-03               28.497639   \n",
       "435719    338.313079  2.535782  1.467641e-03               83.855487   \n",
       "\n",
       "           Source  Water Temperature  Air Temperature  \n",
       "781974  Reservoir          22.900917        54.310518  \n",
       "937737     Ground          64.103574        72.016863  \n",
       "907828       Well          26.600483        74.400507  \n",
       "784628     Ground          16.434954        98.879709  \n",
       "662460       Lake          12.467716        46.854295  \n",
       "...           ...                ...              ...  \n",
       "914455     Ground          46.682743        68.763669  \n",
       "80809     Aquifer          11.003228        75.988999  \n",
       "671949     Spring          27.909774        18.998035  \n",
       "499176    Aquifer           8.461737        40.424152  \n",
       "435719      River          10.476108        24.283290  \n",
       "\n",
       "[66858 rows x 19 columns]"
      ]
     },
     "execution_count": 9,
     "metadata": {},
     "output_type": "execute_result"
    }
   ],
   "source": [
    "# split the dataset into x and y\n",
    "X = df.drop(['Potability', 'Month', 'Day', 'Time of Day', 'Index'], axis=1) # axis=1 indicates we are dropping a column, not a row\n",
    "Y = df['Potability']\n",
    "X"
   ]
  },
  {
   "cell_type": "code",
   "execution_count": 10,
   "metadata": {},
   "outputs": [
    {
     "data": {
      "text/plain": [
       "['pH',\n",
       " 'Iron',\n",
       " 'Nitrate',\n",
       " 'Chloride',\n",
       " 'Lead',\n",
       " 'Zinc',\n",
       " 'Turbidity',\n",
       " 'Fluoride',\n",
       " 'Copper',\n",
       " 'Odor',\n",
       " 'Sulfate',\n",
       " 'Conductivity',\n",
       " 'Chlorine',\n",
       " 'Manganese',\n",
       " 'Total Dissolved Solids',\n",
       " 'Water Temperature',\n",
       " 'Air Temperature']"
      ]
     },
     "execution_count": 10,
     "metadata": {},
     "output_type": "execute_result"
    }
   ],
   "source": [
    "cols = X.columns\n",
    "# cols = cols.to_list()\n",
    "\n",
    "categorical_cols = ['Color', 'Source']\n",
    "\n",
    "# Create a new list that contains only non-string elements\n",
    "new_list = [item for item in cols if item not in categorical_cols]\n",
    "new_list"
   ]
  },
  {
   "cell_type": "code",
   "execution_count": 11,
   "metadata": {},
   "outputs": [
    {
     "data": {
      "text/plain": [
       "array([[7.004799273, 6.13e-06, 7.114755278, ..., 'Reservoir',\n",
       "        22.90091727, 54.31051792],\n",
       "       [8.299822905, 0.001845755, 4.713490289, ..., 'Ground',\n",
       "        64.10357372, 72.01686324],\n",
       "       [8.077127655, 0.001998475, 6.999235945, ..., 'Well', 26.60048284,\n",
       "        74.40050714],\n",
       "       ...,\n",
       "       [5.33950555, 4.004971858, 2.171120684, ..., 'Spring', 27.90977427,\n",
       "        18.99803523],\n",
       "       [7.255510881, 0.129528938, 3.661623969, ..., 'Aquifer',\n",
       "        8.461736843, 40.42415154],\n",
       "       [7.063004388, 0.04632639, 8.890720149, ..., 'River', 10.47610764,\n",
       "        24.28328988]], dtype=object)"
      ]
     },
     "execution_count": 11,
     "metadata": {},
     "output_type": "execute_result"
    }
   ],
   "source": [
    "# we need x, y values as numpy arrays\n",
    "X = df.iloc[:, 1:-4].values\n",
    "Y = df.iloc[:, -1].values\n",
    "\n",
    "X"
   ]
  },
  {
   "cell_type": "code",
   "execution_count": 12,
   "metadata": {},
   "outputs": [
    {
     "data": {
      "text/plain": [
       "array([7.004799273, 6.13e-06, 7.114755278, 120.5277688, 4.62e-168,\n",
       "       1.564359234, 3, 0.613997908, 1.758450685, 0.255472008, 2.092090468,\n",
       "       120.745502, 241.4468855, 3.099393646, 0.044697746, 257.7175114, 3,\n",
       "       22.90091727, 54.31051792], dtype=object)"
      ]
     },
     "execution_count": 12,
     "metadata": {},
     "output_type": "execute_result"
    }
   ],
   "source": [
    "# Label Encode categorical values (1, 2, 3 ... values)\n",
    "le1 = LabelEncoder()\n",
    "X[:, 6] = le1.fit_transform(X[:, 6])\n",
    "\n",
    "le2 = LabelEncoder()\n",
    "X[:, 16] = le2.fit_transform(X[:, 16])\n",
    "X[0]\n"
   ]
  },
  {
   "cell_type": "code",
   "execution_count": 13,
   "metadata": {},
   "outputs": [],
   "source": [
    "# Column transform categorical columns (0, 1, 0 ...)\n",
    "ct1 = ColumnTransformer(transformers=[('encode', OneHotEncoder(), [6])], remainder='passthrough')\n",
    "X = ct1.fit_transform(X)\n",
    "\n",
    "ct2 = ColumnTransformer(transformers=[('encode', OneHotEncoder(), [20])], remainder='passthrough')\n",
    "X = ct2.fit_transform(X)\n"
   ]
  },
  {
   "cell_type": "code",
   "execution_count": 14,
   "metadata": {},
   "outputs": [
    {
     "data": {
      "text/plain": [
       "array([[0.0, 0.0, 0.0, ..., 425.254835, 8.76875878, 53.03647794],\n",
       "       [0.0, 0.0, 0.0, ..., 157.5866344, 18.75635626, 49.39815037],\n",
       "       [0.0, 0.0, 0.0, ..., 314.171592, 7.330355678, 44.73654664],\n",
       "       ...,\n",
       "       [0.0, 1.0, 0.0, ..., 402.6288004, 8.976191009, 36.22737099],\n",
       "       [0.0, 0.0, 0.0, ..., 201.9966985, 16.44010914, 51.02353447],\n",
       "       [0.0, 1.0, 0.0, ..., 399.1981209, 13.58481817, 55.4285618]],\n",
       "      dtype=object)"
      ]
     },
     "execution_count": 14,
     "metadata": {},
     "output_type": "execute_result"
    }
   ],
   "source": [
    "# Splitting the data set\n",
    "x_train, x_test, y_train, y_test = train_test_split(X, Y, test_size=0.2, random_state=1)\n",
    "x_train"
   ]
  },
  {
   "cell_type": "code",
   "execution_count": 15,
   "metadata": {},
   "outputs": [
    {
     "name": "stdout",
     "output_type": "stream",
     "text": [
      "X TRAIN [0.0 0.0 0.0 0.0 0.0 0.0 0.0 1.0 0.0 0.0 0.0 1.0 0.0 -2.026182568461654\n",
      " -0.2529507762163661 -0.5797267348310291 2.314937586419409\n",
      " -0.04106201582840569 -0.8088429221020856 -0.5497859234001802\n",
      " 0.42247855341433305 -0.46977029185120317 -1.5607185071376262\n",
      " 1.8026731972032313 -1.1509555181761484 -0.337940235403826\n",
      " 0.09338824401324686 1.0293839305850232 -0.8996875109646076\n",
      " -0.3884205285232413]\n",
      "Y TRAIN [1 1 1 ... 0 0 0]\n"
     ]
    }
   ],
   "source": [
    "# Normalize input values\n",
    "\n",
    "sc = StandardScaler()  # range: -3 to +3\n",
    "x_train[:, 13:] = sc.fit_transform(x_train[:, 13:])  # 0,1,2 are dummy variables\n",
    "x_test[:, 13:] = sc.transform(x_test[:, 13:])\n",
    "\n",
    "print(\"X TRAIN\", x_train[0])\n",
    "print(\"Y TRAIN\", y_train)"
   ]
  },
  {
   "cell_type": "markdown",
   "metadata": {},
   "source": [
    "### Create the Logistic Regression classification model"
   ]
  },
  {
   "cell_type": "code",
   "execution_count": null,
   "metadata": {},
   "outputs": [],
   "source": [
    "lr_classifier = LogisticRegression(random_state=0)\n",
    "lr_classifier.fit(x_train, y_train)"
   ]
  },
  {
   "cell_type": "code",
   "execution_count": null,
   "metadata": {},
   "outputs": [],
   "source": [
    "# save the trained model\n",
    "joblib.dump(lr_classifier, 'trained_LR_model.joblib')"
   ]
  },
  {
   "cell_type": "code",
   "execution_count": null,
   "metadata": {},
   "outputs": [],
   "source": [
    "y_pred_lr = lr_classifier.predict(x_test)"
   ]
  },
  {
   "cell_type": "code",
   "execution_count": null,
   "metadata": {},
   "outputs": [],
   "source": [
    "# np.set_printoptions(precision=2)\n",
    "# print(np.concatenate([y_pred_lr.reshape(len(y_pred_lr), 1), y_test.reshape(len(y_test), 1)], axis=1))"
   ]
  },
  {
   "cell_type": "code",
   "execution_count": null,
   "metadata": {},
   "outputs": [],
   "source": [
    "# confMatrix = confusion_matrix(y_test, y_pred_lr)\n",
    "# print(confMatrix)"
   ]
  },
  {
   "cell_type": "code",
   "execution_count": null,
   "metadata": {},
   "outputs": [],
   "source": [
    "lr_model_accuracy = accuracy_score(y_test, y_pred_lr)\n",
    "print(lr_model_accuracy)"
   ]
  },
  {
   "cell_type": "markdown",
   "metadata": {},
   "source": [
    "### Create the Support Vector Machine classification model"
   ]
  },
  {
   "cell_type": "code",
   "execution_count": null,
   "metadata": {},
   "outputs": [],
   "source": [
    "# support vector classifier\n",
    "svm_classifier = SVC(kernel='linear', random_state=0)  # default is rbf\n",
    "svm_classifier.fit(x_train, y_train)"
   ]
  },
  {
   "cell_type": "code",
   "execution_count": null,
   "metadata": {},
   "outputs": [],
   "source": [
    "# save the trained model\n",
    "joblib.dump(svm_classifier, 'trained_SVM_model.joblib')"
   ]
  },
  {
   "cell_type": "code",
   "execution_count": null,
   "metadata": {},
   "outputs": [],
   "source": [
    "y_pred_svm = svm_classifier.predict(x_test)"
   ]
  },
  {
   "cell_type": "code",
   "execution_count": null,
   "metadata": {},
   "outputs": [],
   "source": [
    "# confMatrix = confusion_matrix(y_test, y_pred_svm)\n",
    "# print(confMatrix)"
   ]
  },
  {
   "cell_type": "code",
   "execution_count": null,
   "metadata": {},
   "outputs": [],
   "source": [
    "svm_model_accuracy = accuracy_score(y_test, y_pred_svm)\n",
    "print(svm_model_accuracy)"
   ]
  },
  {
   "cell_type": "markdown",
   "metadata": {},
   "source": [
    "### Create the K-Nearest Neighbour classification model"
   ]
  },
  {
   "cell_type": "code",
   "execution_count": null,
   "metadata": {},
   "outputs": [],
   "source": [
    "knn_classifier = KNeighborsClassifier(n_neighbors=5, metric='minkowski', p=2)  # classic euclidean distance\n",
    "knn_classifier.fit(x_train, y_train)"
   ]
  },
  {
   "cell_type": "code",
   "execution_count": null,
   "metadata": {},
   "outputs": [],
   "source": [
    "# save the trained model\n",
    "joblib.dump(knn_classifier, 'trained_KNN_model.joblib')"
   ]
  },
  {
   "cell_type": "code",
   "execution_count": null,
   "metadata": {},
   "outputs": [],
   "source": [
    "y_pred_knn = knn_classifier.predict(x_test)"
   ]
  },
  {
   "cell_type": "code",
   "execution_count": null,
   "metadata": {},
   "outputs": [],
   "source": [
    "# confMatrix = confusion_matrix(y_test, y_pred_knn)\n",
    "# print(confMatrix)"
   ]
  },
  {
   "cell_type": "code",
   "execution_count": null,
   "metadata": {},
   "outputs": [],
   "source": [
    "knn_model_accuracy = accuracy_score(y_test, y_pred_knn)\n",
    "print(knn_model_accuracy)"
   ]
  },
  {
   "cell_type": "markdown",
   "metadata": {},
   "source": [
    "### Create the decision tree classification model"
   ]
  },
  {
   "cell_type": "code",
   "execution_count": null,
   "metadata": {},
   "outputs": [],
   "source": [
    "from sklearn.tree import DecisionTreeClassifier\n",
    "\n",
    "dtree_classifier = DecisionTreeClassifier(criterion='gini', random_state=0)\n",
    "dtree_classifier.fit(x_train, y_train)"
   ]
  },
  {
   "cell_type": "code",
   "execution_count": null,
   "metadata": {},
   "outputs": [],
   "source": [
    "# save the trained model\n",
    "joblib.dump(dtree_classifier, 'trained_DTR_model.joblib')"
   ]
  },
  {
   "cell_type": "code",
   "execution_count": null,
   "metadata": {},
   "outputs": [],
   "source": [
    "y_pred_dtree = dtree_classifier.predict(x_test)"
   ]
  },
  {
   "cell_type": "code",
   "execution_count": null,
   "metadata": {},
   "outputs": [],
   "source": [
    "# confMatrix = confusion_matrix(y_test, y_pred_dtree)\n",
    "# print(confMatrix)"
   ]
  },
  {
   "cell_type": "code",
   "execution_count": null,
   "metadata": {},
   "outputs": [],
   "source": [
    "dtc_model_accuracy = accuracy_score(y_test, y_pred_dtree)\n",
    "print(dtc_model_accuracy)"
   ]
  },
  {
   "cell_type": "markdown",
   "metadata": {},
   "source": [
    "### Create the random forest classification model"
   ]
  },
  {
   "cell_type": "code",
   "execution_count": null,
   "metadata": {},
   "outputs": [],
   "source": [
    "from sklearn.ensemble import RandomForestClassifier\n",
    "rfc_classifier = RandomForestClassifier(n_estimators = 100, criterion='entropy', random_state = 0)\n",
    "rfc_classifier.fit(x_train, y_train)"
   ]
  },
  {
   "cell_type": "code",
   "execution_count": null,
   "metadata": {},
   "outputs": [],
   "source": [
    "# save the trained model\n",
    "joblib.dump(rfc_classifier, 'trained_RDF_model.joblib')"
   ]
  },
  {
   "cell_type": "code",
   "execution_count": null,
   "metadata": {},
   "outputs": [],
   "source": [
    "y_pred_rdf = rfc_classifier.predict(x_test)"
   ]
  },
  {
   "cell_type": "code",
   "execution_count": null,
   "metadata": {},
   "outputs": [],
   "source": [
    "# confMatrix = confusion_matrix(y_test, y_pred_rdf)\n",
    "# print(confMatrix)"
   ]
  },
  {
   "cell_type": "code",
   "execution_count": null,
   "metadata": {},
   "outputs": [],
   "source": [
    "rfc_model_accuracy = accuracy_score(y_test, y_pred_rdf)\n",
    "print(rfc_model_accuracy)"
   ]
  },
  {
   "cell_type": "code",
   "execution_count": 22,
   "metadata": {},
   "outputs": [
    {
     "ename": "ValueError",
     "evalue": "Samples [    2    10    12 ... 66849 66850 66855] can not be inverted when drop=None and handle_unknown='error' because they contain all zeros",
     "output_type": "error",
     "traceback": [
      "\u001b[1;31m---------------------------------------------------------------------------\u001b[0m",
      "\u001b[1;31mValueError\u001b[0m                                Traceback (most recent call last)",
      "\u001b[1;32md:\\SLIIT\\Year 03 sem 02\\FDM\\FDM_Mini_Project\\script.ipynb Cell 46\u001b[0m line \u001b[0;36m2\n\u001b[0;32m      <a href='vscode-notebook-cell:/d%3A/SLIIT/Year%2003%20sem%2002/FDM/FDM_Mini_Project/script.ipynb#X63sZmlsZQ%3D%3D?line=0'>1</a>\u001b[0m \u001b[39m# Feature importance for RDF model\u001b[39;00m\n\u001b[1;32m----> <a href='vscode-notebook-cell:/d%3A/SLIIT/Year%2003%20sem%2002/FDM/FDM_Mini_Project/script.ipynb#X63sZmlsZQ%3D%3D?line=1'>2</a>\u001b[0m X_original_1 \u001b[39m=\u001b[39m ct1\u001b[39m.\u001b[39;49mnamed_transformers_[\u001b[39m'\u001b[39;49m\u001b[39mencode\u001b[39;49m\u001b[39m'\u001b[39;49m]\u001b[39m.\u001b[39;49minverse_transform(X[:, :\u001b[39m5\u001b[39;49m])\n\u001b[0;32m      <a href='vscode-notebook-cell:/d%3A/SLIIT/Year%2003%20sem%2002/FDM/FDM_Mini_Project/script.ipynb#X63sZmlsZQ%3D%3D?line=3'>4</a>\u001b[0m \u001b[39m# rfc_model = joblib.load('trained_RDF_model.joblib')\u001b[39;00m\n\u001b[0;32m      <a href='vscode-notebook-cell:/d%3A/SLIIT/Year%2003%20sem%2002/FDM/FDM_Mini_Project/script.ipynb#X63sZmlsZQ%3D%3D?line=4'>5</a>\u001b[0m \n\u001b[0;32m      <a href='vscode-notebook-cell:/d%3A/SLIIT/Year%2003%20sem%2002/FDM/FDM_Mini_Project/script.ipynb#X63sZmlsZQ%3D%3D?line=5'>6</a>\u001b[0m \n\u001b[1;32m   (...)\u001b[0m\n\u001b[0;32m     <a href='vscode-notebook-cell:/d%3A/SLIIT/Year%2003%20sem%2002/FDM/FDM_Mini_Project/script.ipynb#X63sZmlsZQ%3D%3D?line=17'>18</a>\u001b[0m \u001b[39m# # Print or visualize the feature importances\u001b[39;00m\n\u001b[0;32m     <a href='vscode-notebook-cell:/d%3A/SLIIT/Year%2003%20sem%2002/FDM/FDM_Mini_Project/script.ipynb#X63sZmlsZQ%3D%3D?line=18'>19</a>\u001b[0m \u001b[39m# print(importance_df)\u001b[39;00m\n",
      "File \u001b[1;32mc:\\Users\\ranuja\\AppData\\Local\\Programs\\Python\\Python311\\Lib\\site-packages\\sklearn\\preprocessing\\_encoders.py:1156\u001b[0m, in \u001b[0;36mOneHotEncoder.inverse_transform\u001b[1;34m(self, X)\u001b[0m\n\u001b[0;32m   1154\u001b[0m \u001b[39mif\u001b[39;00m \u001b[39mself\u001b[39m\u001b[39m.\u001b[39m_drop_idx_after_grouping \u001b[39mis\u001b[39;00m \u001b[39mNone\u001b[39;00m:\n\u001b[0;32m   1155\u001b[0m     all_zero_samples \u001b[39m=\u001b[39m np\u001b[39m.\u001b[39mflatnonzero(dropped)\n\u001b[1;32m-> 1156\u001b[0m     \u001b[39mraise\u001b[39;00m \u001b[39mValueError\u001b[39;00m(\n\u001b[0;32m   1157\u001b[0m         \u001b[39mf\u001b[39m\u001b[39m\"\u001b[39m\u001b[39mSamples \u001b[39m\u001b[39m{\u001b[39;00mall_zero_samples\u001b[39m}\u001b[39;00m\u001b[39m can not be inverted \u001b[39m\u001b[39m\"\u001b[39m\n\u001b[0;32m   1158\u001b[0m         \u001b[39m\"\u001b[39m\u001b[39mwhen drop=None and handle_unknown=\u001b[39m\u001b[39m'\u001b[39m\u001b[39merror\u001b[39m\u001b[39m'\u001b[39m\u001b[39m \u001b[39m\u001b[39m\"\u001b[39m\n\u001b[0;32m   1159\u001b[0m         \u001b[39m\"\u001b[39m\u001b[39mbecause they contain all zeros\u001b[39m\u001b[39m\"\u001b[39m\n\u001b[0;32m   1160\u001b[0m     )\n\u001b[0;32m   1161\u001b[0m \u001b[39m# we can safely assume that all of the nulls in each column\u001b[39;00m\n\u001b[0;32m   1162\u001b[0m \u001b[39m# are the dropped value\u001b[39;00m\n\u001b[0;32m   1163\u001b[0m drop_idx \u001b[39m=\u001b[39m \u001b[39mself\u001b[39m\u001b[39m.\u001b[39m_drop_idx_after_grouping[i]\n",
      "\u001b[1;31mValueError\u001b[0m: Samples [    2    10    12 ... 66849 66850 66855] can not be inverted when drop=None and handle_unknown='error' because they contain all zeros"
     ]
    }
   ],
   "source": [
    "# Feature importance for RDF model\n",
    "X_original_1 = ct1.named_transformers_['encode'].inverse_transform(X[:, :5])\n",
    "\n",
    "# rfc_model = joblib.load('trained_RDF_model.joblib')\n",
    "\n",
    "\n",
    "# # Get feature importances\n",
    "# feature_importances = rfc_model.feature_importances_\n",
    "# print(feature_importances)\n",
    "\n",
    "# # Create a DataFrame to store feature names and their importances\n",
    "# importance_df = pd.DataFrame({'Feature': cols[1:-4], 'Importance': feature_importances})\n",
    "\n",
    "\n",
    "# # Sort the DataFrame by importance in descending order\n",
    "# importance_df = importance_df.sort_values(by='Importance', ascending=False)\n",
    "\n",
    "# # Print or visualize the feature importances\n",
    "# print(importance_df)"
   ]
  },
  {
   "cell_type": "markdown",
   "metadata": {},
   "source": [
    "### Preprocess the input data"
   ]
  },
  {
   "cell_type": "code",
   "execution_count": null,
   "metadata": {},
   "outputs": [],
   "source": [
    "values = [8.510801988, 9.16E-05, 5.920902064, 304.4845891, 3.60E-07, 1.635760979, 'Faint Yellow', 3.739693, 0.559295096, 0.880587373, 3.965759996, 62.38685835, 580.4796606, 3.84064004, 2.00E-09, 346.8499604, 'Reservoir', 12.80967626, 61.24561392]\n",
    "\n",
    "# Convert the input values to a DataFrame\n",
    "input_data = pd.DataFrame([values])\n",
    "\n",
    "# Preprocess the input data\n",
    "input_data = input_data.values  # Convert to NumPy array\n",
    "\n",
    "# label encode the values\n",
    "input_data[:, 6] = le1.transform(input_data[:, 6])\n",
    "input_data[:, 16] = le2.transform(input_data[:, 16])\n",
    "\n",
    "# column transform the values\n",
    "input_data = ct1.transform(input_data)\n",
    "input_data = ct2.transform(input_data)\n",
    "\n",
    "# scale the values\n",
    "input_data[:, 13:] = sc.transform(input_data[:, 13:])\n",
    "\n",
    "print(input_data)"
   ]
  },
  {
   "cell_type": "code",
   "execution_count": null,
   "metadata": {},
   "outputs": [],
   "source": [
    "y_single = rfc_classifier.predict(input_data)\n",
    "\n",
    "print(y_single)"
   ]
  },
  {
   "cell_type": "markdown",
   "metadata": {},
   "source": [
    "## CONCLUSIONS"
   ]
  },
  {
   "cell_type": "code",
   "execution_count": null,
   "metadata": {},
   "outputs": [],
   "source": [
    "# print(\"ACCURACY SCORES OF EACH MODEL\\n\")\n",
    "\n",
    "# print(\"Logistic Regression Classifier\\t\", round(lr_model_accuracy * 100, 2))\n",
    "# print(\"SVM Classifier\\t\\t\\t\", round(svm_model_accuracy * 100, 2))\n",
    "# print(\"K-NN Classifier\\t\\t\\t\", round(knn_model_accuracy * 100, 2))\n",
    "# print(\"Decision Tree Classifier\\t\", round(dtc_model_accuracy * 100, 2))\n",
    "# print(\"Random Forest Classifier\\t\", round(rfc_model_accuracy * 100, 2))"
   ]
  }
 ],
 "metadata": {
  "kernelspec": {
   "display_name": "Python 3",
   "language": "python",
   "name": "python3"
  },
  "language_info": {
   "codemirror_mode": {
    "name": "ipython",
    "version": 3
   },
   "file_extension": ".py",
   "mimetype": "text/x-python",
   "name": "python",
   "nbconvert_exporter": "python",
   "pygments_lexer": "ipython3",
   "version": "3.11.3"
  },
  "orig_nbformat": 4
 },
 "nbformat": 4,
 "nbformat_minor": 2
}
